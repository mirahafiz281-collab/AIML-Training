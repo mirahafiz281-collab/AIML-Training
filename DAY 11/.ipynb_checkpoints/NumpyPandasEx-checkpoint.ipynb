{
 "cells": [
  {
   "cell_type": "code",
   "execution_count": 1,
   "id": "3ceb670d-ce38-4bee-828e-8f3871740ce8",
   "metadata": {},
   "outputs": [],
   "source": [
    "import pandas as pd\n",
    "import numpy as np"
   ]
  },
  {
   "cell_type": "code",
   "execution_count": 2,
   "id": "0b466387-4bfa-49f6-a87b-55ae59b964e2",
   "metadata": {},
   "outputs": [
    {
     "name": "stdout",
     "output_type": "stream",
     "text": [
      "    Name  Age  Marks\n",
      "0   John   20     85\n",
      "1  Alice   22     90\n",
      "2    Bob   21     78\n",
      "3   Sara   23     92\n"
     ]
    }
   ],
   "source": [
    "df=pd.read_excel('students.xlsx')\n",
    "print(df)"
   ]
  },
  {
   "cell_type": "code",
   "execution_count": 3,
   "id": "9fa5bfaf-dc2b-49cb-a543-55e72edddb13",
   "metadata": {},
   "outputs": [
    {
     "name": "stdout",
     "output_type": "stream",
     "text": [
      "Numpy Array of Marks\n",
      "[85 90 78 92]\n"
     ]
    }
   ],
   "source": [
    "marks=df['Marks'].to_numpy()\n",
    "print('Numpy Array of Marks')\n",
    "print(marks)"
   ]
  },
  {
   "cell_type": "code",
   "execution_count": 5,
   "id": "250d8839-9090-4f9c-b487-483b6e511f11",
   "metadata": {},
   "outputs": [
    {
     "name": "stdout",
     "output_type": "stream",
     "text": [
      "Highest Marks  92\n"
     ]
    }
   ],
   "source": [
    "print('Highest Marks ',np.max(marks))"
   ]
  },
  {
   "cell_type": "code",
   "execution_count": 8,
   "id": "2af89651-35bd-48d8-9edb-d1e0cf1157d0",
   "metadata": {},
   "outputs": [
    {
     "name": "stdout",
     "output_type": "stream",
     "text": [
      "Lowest Marks  78\n"
     ]
    }
   ],
   "source": [
    "print('Lowest Marks ',np.min(marks))"
   ]
  },
  {
   "cell_type": "code",
   "execution_count": 6,
   "id": "5a2d7206-0515-4962-a873-09a40f38ecb3",
   "metadata": {},
   "outputs": [
    {
     "name": "stdout",
     "output_type": "stream",
     "text": [
      "Average Marks  86.25\n"
     ]
    }
   ],
   "source": [
    "print('Average Marks ',np.mean(marks))"
   ]
  },
  {
   "cell_type": "markdown",
   "id": "d0ebc003-583a-4c1f-a410-6a127b9d64d6",
   "metadata": {},
   "source": [
    "# .loc: Label Based\n",
    "# .iloc: Index Based"
   ]
  },
  {
   "cell_type": "code",
   "execution_count": 14,
   "id": "7c9b01d7-d904-4a4d-bf59-1ed72966862e",
   "metadata": {},
   "outputs": [
    {
     "name": "stdout",
     "output_type": "stream",
     "text": [
      "original dataframe\n",
      "    Name  Age  Marks\n",
      "0   John   20     85\n",
      "1  Alice   22     90\n",
      "2    Bob   21     78\n",
      "3   Sara   23     92\n",
      "location : Label Based\n",
      "Name     Bob\n",
      "Age       21\n",
      "Marks     78\n",
      "Name: 2, dtype: object ['Name', 'Marks']\n"
     ]
    }
   ],
   "source": [
    "print('original dataframe')\n",
    "print(df)\n",
    "print('location : Label Based')\n",
    "print(df.loc[2], ['Name','Marks'])"
   ]
  },
  {
   "cell_type": "code",
   "execution_count": 15,
   "id": "38d44451-dc47-4c2f-ab3a-7d1e3ecaab85",
   "metadata": {},
   "outputs": [
    {
     "name": "stdout",
     "output_type": "stream",
     "text": [
      "original dataframe\n",
      "    Name  Age  Marks\n",
      "0   John   20     85\n",
      "1  Alice   22     90\n",
      "2    Bob   21     78\n",
      "3   Sara   23     92\n",
      "location : Index Based\n",
      "Age      21\n",
      "Marks    78\n",
      "Name: 2, dtype: object\n"
     ]
    }
   ],
   "source": [
    "print('original dataframe')\n",
    "print(df)\n",
    "print('location : Index Based')\n",
    "print(df.iloc[2,[1,2]])"
   ]
  },
  {
   "cell_type": "markdown",
   "id": "e7508f7d-1418-4c47-a73a-d9a915610cb0",
   "metadata": {},
   "source": [
    "# Axis in Numpy: Axis 0: vertical direction: works column wise\n",
    "    1. Axis 0:vertical direction: works column wise\n",
    "    2. Axis 1: horizontal direction: works rows-wise"
   ]
  },
  {
   "cell_type": "markdown",
   "id": "27a14c86-eb5b-4bdb-b063-e2019b1763e4",
   "metadata": {},
   "source": [
    "# Task 1: we have two students marks in 3 subjects\n",
    "    # [[45,50,39],[30,45,49]]"
   ]
  },
  {
   "cell_type": "code",
   "execution_count": 20,
   "id": "b0e437d5-f8bd-44b8-92d8-2ecb53a36d84",
   "metadata": {},
   "outputs": [
    {
     "name": "stdout",
     "output_type": "stream",
     "text": [
      "[[ 5  2  9]\n",
      " [10 40 60]]\n"
     ]
    }
   ],
   "source": [
    "marks_arr=np.array([[5,2,9],[10,40,60]])\n",
    "print(marks_arr)"
   ]
  },
  {
   "cell_type": "code",
   "execution_count": 23,
   "id": "80f35d40-5d33-418a-aa18-509795ad2441",
   "metadata": {},
   "outputs": [
    {
     "name": "stdout",
     "output_type": "stream",
     "text": [
      "Sum down each column [15 42 69]\n"
     ]
    }
   ],
   "source": [
    "print('Sum down each column',np.sum(marks_arr,axis=0))"
   ]
  },
  {
   "cell_type": "code",
   "execution_count": 24,
   "id": "dad76023-3f17-433b-a8c7-dd79bde344a9",
   "metadata": {},
   "outputs": [
    {
     "name": "stdout",
     "output_type": "stream",
     "text": [
      "Sum down each row [ 16 110]\n"
     ]
    }
   ],
   "source": [
    "print('Sum down each row',np.sum(marks_arr,axis=1))"
   ]
  },
  {
   "cell_type": "code",
   "execution_count": 25,
   "id": "a6040291-caa3-4e65-968d-1509b7c89416",
   "metadata": {},
   "outputs": [
    {
     "name": "stdout",
     "output_type": "stream",
     "text": [
      "Numpy Array of Marks\n",
      "[85 90 78 92]\n"
     ]
    }
   ],
   "source": [
    "print('Numpy Array of Marks')\n",
    "print(marks)"
   ]
  },
  {
   "cell_type": "code",
   "execution_count": 26,
   "id": "4263b687-5544-4b83-818b-a0be989f0848",
   "metadata": {},
   "outputs": [
    {
     "name": "stdout",
     "output_type": "stream",
     "text": [
      "    Name  Age  Marks\n",
      "0   John   20     85\n",
      "1  Alice   22     90\n",
      "2    Bob   21     78\n",
      "3   Sara   23     92\n"
     ]
    }
   ],
   "source": [
    "print(df)"
   ]
  },
  {
   "cell_type": "markdown",
   "id": "2105cac3-e366-4790-9a9d-6624ac79f3c0",
   "metadata": {},
   "source": [
    "# Find students Name who got highest Marks"
   ]
  },
  {
   "cell_type": "code",
   "execution_count": 27,
   "id": "ed098e75-d375-468e-ab58-9f1aa952e6d4",
   "metadata": {},
   "outputs": [
    {
     "name": "stdout",
     "output_type": "stream",
     "text": [
      "Sara\n"
     ]
    }
   ],
   "source": [
    "topper=df.loc[df['Marks'].idxmax(),'Name']\n",
    "print(topper)"
   ]
  },
  {
   "cell_type": "code",
   "execution_count": 28,
   "id": "9eb51ab6-9fe0-4650-b5f2-cc1572eb77ae",
   "metadata": {},
   "outputs": [
    {
     "name": "stdout",
     "output_type": "stream",
     "text": [
      "Bob\n"
     ]
    }
   ],
   "source": [
    "lastinclass=df.loc[df['Marks'].idxmin(),'Name']\n",
    "print(lastinclass)"
   ]
  },
  {
   "cell_type": "code",
   "execution_count": 29,
   "id": "310c377d-c547-4d07-82ab-e0b29e3c8bff",
   "metadata": {},
   "outputs": [
    {
     "name": "stdout",
     "output_type": "stream",
     "text": [
      "Next Example\n"
     ]
    }
   ],
   "source": [
    "print('Next Example')"
   ]
  },
  {
   "cell_type": "code",
   "execution_count": 34,
   "id": "7ada6460-2aef-48e8-9334-519d19670d3d",
   "metadata": {},
   "outputs": [
    {
     "name": "stdout",
     "output_type": "stream",
     "text": [
      "Topper of the class is:  Sara\n"
     ]
    }
   ],
   "source": [
    "top_index=df['Marks'].idxmax()\n",
    "top_student=df.iloc[top_index,df.columns.get_loc('Name')]\n",
    "print('Topper of the class is: ',top_student)"
   ]
  },
  {
   "cell_type": "code",
   "execution_count": null,
   "id": "ffdecc6a-1822-452a-843a-59a8eff5ef80",
   "metadata": {},
   "outputs": [],
   "source": []
  }
 ],
 "metadata": {
  "kernelspec": {
   "display_name": "Python 3 (ipykernel)",
   "language": "python",
   "name": "python3"
  },
  "language_info": {
   "codemirror_mode": {
    "name": "ipython",
    "version": 3
   },
   "file_extension": ".py",
   "mimetype": "text/x-python",
   "name": "python",
   "nbconvert_exporter": "python",
   "pygments_lexer": "ipython3",
   "version": "3.13.5"
  }
 },
 "nbformat": 4,
 "nbformat_minor": 5
}
