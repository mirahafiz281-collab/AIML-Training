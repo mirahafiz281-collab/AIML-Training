{
 "cells": [
  {
   "cell_type": "markdown",
   "id": "a47bdada-cebe-4f26-a10b-635ce958dc73",
   "metadata": {},
   "source": [
    "# Numpy Introduction and Usage\n",
    "# we will use numpy in this jupyter notebook"
   ]
  },
  {
   "cell_type": "markdown",
   "id": "79dcd910-1fdd-4650-95c1-05b88dde9efe",
   "metadata": {},
   "source": [
    "# One Dimensional Array (1-D)"
   ]
  },
  {
   "cell_type": "code",
   "execution_count": 2,
   "id": "80b2bca4-03d4-4f18-9ff9-3c88f8955091",
   "metadata": {},
   "outputs": [],
   "source": [
    "import numpy as np"
   ]
  },
  {
   "cell_type": "code",
   "execution_count": 6,
   "id": "630524f1-8b15-48ce-9d86-55f954b0f467",
   "metadata": {},
   "outputs": [],
   "source": [
    "array1=np.array([10,20,30,40,50])"
   ]
  },
  {
   "cell_type": "code",
   "execution_count": 7,
   "id": "58277732-9f0b-482d-97cb-be3ecd509a5a",
   "metadata": {},
   "outputs": [
    {
     "name": "stdout",
     "output_type": "stream",
     "text": [
      "[10 20 30 40 50]\n"
     ]
    }
   ],
   "source": [
    "print(array1)"
   ]
  },
  {
   "cell_type": "markdown",
   "id": "d3868f2f-82cf-4cac-baad-f8a3707b1f91",
   "metadata": {},
   "source": [
    "# Two Dimensional Array (2-D)"
   ]
  },
  {
   "cell_type": "code",
   "execution_count": 8,
   "id": "77f4b29c-2d01-4fbd-aef6-1c0244d16236",
   "metadata": {},
   "outputs": [],
   "source": [
    "array_two=np.array([[10,20,30],[40,50,70]])"
   ]
  },
  {
   "cell_type": "code",
   "execution_count": 9,
   "id": "917ecc61-8c38-4ec6-a300-643fcafd82ff",
   "metadata": {},
   "outputs": [
    {
     "name": "stdout",
     "output_type": "stream",
     "text": [
      "[[10 20 30]\n",
      " [40 50 70]]\n"
     ]
    }
   ],
   "source": [
    "print(array_two)"
   ]
  },
  {
   "cell_type": "markdown",
   "id": "48cb180a-ec18-4425-8b3c-1a0c7daf5cbc",
   "metadata": {},
   "source": [
    "# Three Dimensional Array (3-D Array)"
   ]
  },
  {
   "cell_type": "code",
   "execution_count": 12,
   "id": "053de466-0d66-4f87-a16d-e068b7dca225",
   "metadata": {},
   "outputs": [],
   "source": [
    "array_three=np.array([[[10,20,30],[40,50,60]],[[10,20,30],[40,50,70]]])"
   ]
  },
  {
   "cell_type": "code",
   "execution_count": 13,
   "id": "09aeecf6-1ba0-4abc-8e73-c079b8a8029b",
   "metadata": {},
   "outputs": [
    {
     "name": "stdout",
     "output_type": "stream",
     "text": [
      "[[[10 20 30]\n",
      "  [40 50 60]]\n",
      "\n",
      " [[10 20 30]\n",
      "  [40 50 70]]]\n"
     ]
    }
   ],
   "source": [
    "print(array_three)"
   ]
  },
  {
   "cell_type": "code",
   "execution_count": 14,
   "id": "a76630f0-ea90-4790-893d-720a1e0040b7",
   "metadata": {},
   "outputs": [],
   "source": [
    "# Find out Dimension of NumPy Array"
   ]
  },
  {
   "cell_type": "code",
   "execution_count": 15,
   "id": "ede5040f-a832-446c-954e-c5c6c7ae59ec",
   "metadata": {},
   "outputs": [
    {
     "name": "stdout",
     "output_type": "stream",
     "text": [
      "First Array Dimension: \t 1\n"
     ]
    }
   ],
   "source": [
    "print('First Array Dimension: \\t', array1.ndim)"
   ]
  },
  {
   "cell_type": "code",
   "execution_count": 16,
   "id": "929311f2-c0fd-4d74-949f-5ca209c3f8f6",
   "metadata": {},
   "outputs": [
    {
     "name": "stdout",
     "output_type": "stream",
     "text": [
      "Second Array Dimension: \t 2\n"
     ]
    }
   ],
   "source": [
    "print('Second Array Dimension: \\t', array_two.ndim)"
   ]
  },
  {
   "cell_type": "code",
   "execution_count": 17,
   "id": "53edb0bb-1722-46e5-b4ce-657e6a150b92",
   "metadata": {},
   "outputs": [
    {
     "name": "stdout",
     "output_type": "stream",
     "text": [
      "Third Array Dimension: \t 3\n"
     ]
    }
   ],
   "source": [
    "print('Third Array Dimension: \\t', array_three.ndim)"
   ]
  },
  {
   "cell_type": "markdown",
   "id": "ed31addc-fe84-46d3-9ce5-aa6473c09acf",
   "metadata": {},
   "source": [
    "# Task 1: Write and array of 5 students marks using Numpy\n",
    "    ## Marks are: 80,70,75,99,89"
   ]
  },
  {
   "cell_type": "code",
   "execution_count": 24,
   "id": "001e23c2-6eff-48a0-961d-079b332f9488",
   "metadata": {},
   "outputs": [],
   "source": [
    "import numpy as np"
   ]
  },
  {
   "cell_type": "code",
   "execution_count": 25,
   "id": "9724eb1b-707d-42df-80e9-bb8794074e61",
   "metadata": {},
   "outputs": [],
   "source": [
    "students_marks=np.array([80,70,75,99,89])"
   ]
  },
  {
   "cell_type": "code",
   "execution_count": 28,
   "id": "58b0937a-b0df-400c-bde2-370123f52cf8",
   "metadata": {},
   "outputs": [
    {
     "name": "stdout",
     "output_type": "stream",
     "text": [
      "Array of Marks: \n",
      "[80 70 75 99 89]\n"
     ]
    }
   ],
   "source": [
    "print('Array of Marks: ')\n",
    "print(students_marks)"
   ]
  },
  {
   "cell_type": "markdown",
   "id": "a7b33b46-d1ee-4bd5-b702-df8d6b0f7172",
   "metadata": {},
   "source": [
    "# Task 2: Write an array to take marks of 5 students in 3 subjects using Numpy (use 2_D Array)\n",
    "    ## Math, English, Chemistry\n",
    "    ## [[50,45,49],[40,42,45],[35,40,67],[48,49,40],[34,56,73]]"
   ]
  },
  {
   "cell_type": "code",
   "execution_count": 30,
   "id": "f2212283-b5ab-441d-bbac-c39b0b0a43d2",
   "metadata": {},
   "outputs": [
    {
     "name": "stdout",
     "output_type": "stream",
     "text": [
      "2 D Array Example\n",
      "[[50 45 49]\n",
      " [40 42 45]\n",
      " [35 40 67]\n",
      " [48 49 40]\n",
      " [34 56 73]]\n"
     ]
    }
   ],
   "source": [
    "array_marks_subject=np.array([[50,45,49],[40,42,45],[35,40,67],[48,49,40],[34,56,73]])\n",
    "print('2 D Array Example')\n",
    "print(array_marks_subject)"
   ]
  },
  {
   "cell_type": "markdown",
   "id": "cdaaaa9b-6579-45d2-a6be-ec8e3a884fc6",
   "metadata": {},
   "source": [
    "# Task 3: Write an array: to take Marks of 4 students in 3 subjects for two semester using Numpy\n",
    "## Students Name are: 'Amit','Ara','Sha','Xi'\n",
    "## Math, English Chemistry\n",
    "## Two Semester: Sem1, Sem 2\n",
    "## 4*3*2\n",
    "## [[85,88]-Math [78,83]-English [90,95]-Chemistry] -Fist students, [[ ]]-second students\n",
    "## [[[85,88],[78,79],[90,94]], [[73,64],[55,60],[89,84]], [[54,57],[64,69],[34,60]], [[76,79],[84,89],[92,90]]]"
   ]
  },
  {
   "cell_type": "code",
   "execution_count": 32,
   "id": "d3101b7b-9ed3-4075-a5c9-325929893494",
   "metadata": {},
   "outputs": [],
   "source": [
    "marks_subjects_sem=np.array([[[85,88],[78,79],[90,94]], [[73,64],[55,60],[89,84]], [[54,57],[64,69],[34,60]], [[76,79],[84,89],[92,90]]])"
   ]
  },
  {
   "cell_type": "code",
   "execution_count": 33,
   "id": "91b73b52-7966-47a3-9f8c-3540f7fa1b7a",
   "metadata": {},
   "outputs": [
    {
     "name": "stdout",
     "output_type": "stream",
     "text": [
      "[[[85 88]\n",
      "  [78 79]\n",
      "  [90 94]]\n",
      "\n",
      " [[73 64]\n",
      "  [55 60]\n",
      "  [89 84]]\n",
      "\n",
      " [[54 57]\n",
      "  [64 69]\n",
      "  [34 60]]\n",
      "\n",
      " [[76 79]\n",
      "  [84 89]\n",
      "  [92 90]]]\n"
     ]
    }
   ],
   "source": [
    "print(marks_subjects_sem)"
   ]
  },
  {
   "cell_type": "markdown",
   "id": "f2cfd5a4-62db-4f27-a64e-4fed5aef2908",
   "metadata": {},
   "source": [
    "# Task 4: Write an array: to take weather of 2 cities in 3 days for three times in a day morning, noon, evening\n",
    "## Cities Name are: 'Kuala Lumpur','Delhi\n",
    "## Saturday, Sunday, Monday\n",
    "## Three time slot: Morning, Noon, Evening"
   ]
  },
  {
   "cell_type": "markdown",
   "id": "88d61f01-ea55-4615-953d-03b0a31b9f2c",
   "metadata": {},
   "source": [
    "# Create one 3 D Array for this using Numpy and print it\n",
    "# Kuala Lumpur:[[30,35,40],[25,28,26],[31,34,27]]\n",
    "# Delhi: [[40,25,32],[16,32,34],[33,31,37]]]\n",
    "# [[[30,35,40],[25,28,26],[31,34,27]],[[40,25,32],[16,32,34],[33,31,37]]]"
   ]
  },
  {
   "cell_type": "code",
   "execution_count": 44,
   "id": "54a8a1b2-3e58-48aa-ad86-ad1e5058ef62",
   "metadata": {},
   "outputs": [],
   "source": [
    "weather_array=np.array([[[30,35,40],[25,28,26],[31,34,27]],[[40,25,32],[16,32,34],[33,31,37]]])"
   ]
  },
  {
   "cell_type": "code",
   "execution_count": 45,
   "id": "448d2fbe-01c2-46b2-b662-204dafff108d",
   "metadata": {},
   "outputs": [
    {
     "name": "stdout",
     "output_type": "stream",
     "text": [
      "[[[30 35 40]\n",
      "  [25 28 26]\n",
      "  [31 34 27]]\n",
      "\n",
      " [[40 25 32]\n",
      "  [16 32 34]\n",
      "  [33 31 37]]]\n"
     ]
    }
   ],
   "source": [
    "print(weather_array)"
   ]
  },
  {
   "cell_type": "markdown",
   "id": "0b25183f-7f24-4ea6-95b8-bb99ff80d358",
   "metadata": {},
   "source": [
    "# Basic Information\n",
    "    ## Shape : rows and columns\n",
    "    ## Size : number of elements\n",
    "    ## Dimension : return dimension 1,2,3 ...\n",
    "    ## "
   ]
  },
  {
   "cell_type": "code",
   "execution_count": 46,
   "id": "7225ad23-72b2-4122-8735-942f303b2725",
   "metadata": {},
   "outputs": [
    {
     "name": "stdout",
     "output_type": "stream",
     "text": [
      "[80 70 75 99 89]\n"
     ]
    }
   ],
   "source": [
    "print(array1)"
   ]
  },
  {
   "cell_type": "code",
   "execution_count": 47,
   "id": "3ff3ed4b-4e26-471d-a222-71400c4631b1",
   "metadata": {},
   "outputs": [
    {
     "name": "stdout",
     "output_type": "stream",
     "text": [
      "Shape of array1 :  (5,)\n"
     ]
    }
   ],
   "source": [
    "print(\"Shape of array1 : \", array1.shape)"
   ]
  },
  {
   "cell_type": "code",
   "execution_count": 48,
   "id": "2a225db4-8a4a-4fdc-bbf2-4cd161df5d15",
   "metadata": {},
   "outputs": [
    {
     "name": "stdout",
     "output_type": "stream",
     "text": [
      "Size of array1 :  5\n"
     ]
    }
   ],
   "source": [
    "print(\"Size of array1 : \", array1.size)"
   ]
  },
  {
   "cell_type": "code",
   "execution_count": 49,
   "id": "58b0c91f-b0e0-4551-ad28-113e588fd66c",
   "metadata": {},
   "outputs": [
    {
     "name": "stdout",
     "output_type": "stream",
     "text": [
      "Dimension :  1\n"
     ]
    }
   ],
   "source": [
    "print ('Dimension : ',array1.ndim)"
   ]
  },
  {
   "cell_type": "code",
   "execution_count": 50,
   "id": "08200523-2855-4144-832f-9aa582fee81c",
   "metadata": {},
   "outputs": [
    {
     "name": "stdout",
     "output_type": "stream",
     "text": [
      "Data Type :  int64\n"
     ]
    }
   ],
   "source": [
    "print ('Data Type : ',array1.dtype)"
   ]
  },
  {
   "cell_type": "code",
   "execution_count": 53,
   "id": "64c02de9-73f8-4f2d-9de6-82f4946fe181",
   "metadata": {},
   "outputs": [],
   "source": [
    "students=np.array(['Ali Munir Bin Zakwan','Shi','Xi','Meena','Zizi'])"
   ]
  },
  {
   "cell_type": "code",
   "execution_count": 54,
   "id": "fa96fe9b-be0a-4f04-9ab1-4954d05f5afa",
   "metadata": {},
   "outputs": [
    {
     "name": "stdout",
     "output_type": "stream",
     "text": [
      "['Ali Munir Bin Zakwan' 'Shi' 'Xi' 'Meena' 'Zizi']\n"
     ]
    }
   ],
   "source": [
    "print(students)"
   ]
  },
  {
   "cell_type": "code",
   "execution_count": 56,
   "id": "a526aaa5-8101-4b31-896f-b97115aaa538",
   "metadata": {},
   "outputs": [
    {
     "name": "stdout",
     "output_type": "stream",
     "text": [
      "Shape of array:  (5,)\n"
     ]
    }
   ],
   "source": [
    "print(\"Shape of array: \",students.shape)"
   ]
  },
  {
   "cell_type": "code",
   "execution_count": 55,
   "id": "eb57dce5-8905-4a3d-a8d3-d75cfd661727",
   "metadata": {},
   "outputs": [
    {
     "name": "stdout",
     "output_type": "stream",
     "text": [
      "Numbers of students 5\n"
     ]
    }
   ],
   "source": [
    "print('Numbers of students',students.size)"
   ]
  },
  {
   "cell_type": "code",
   "execution_count": 57,
   "id": "a0d50747-50b0-4060-bed5-9ae350d5a505",
   "metadata": {},
   "outputs": [
    {
     "name": "stdout",
     "output_type": "stream",
     "text": [
      "Data Type:  <U20\n"
     ]
    }
   ],
   "source": [
    "print('Data Type: ',students.dtype)"
   ]
  },
  {
   "cell_type": "markdown",
   "id": "ab83d02b-bd0e-445d-8302-3526d5d56b86",
   "metadata": {},
   "source": [
    "# Mathematical Operational"
   ]
  },
  {
   "cell_type": "code",
   "execution_count": 58,
   "id": "5bc2c0b1-38e6-494d-881d-d9c28d4608b6",
   "metadata": {},
   "outputs": [
    {
     "name": "stdout",
     "output_type": "stream",
     "text": [
      "[80 70 75 99 89]\n"
     ]
    }
   ],
   "source": [
    "print(array1)"
   ]
  },
  {
   "cell_type": "code",
   "execution_count": 59,
   "id": "00512d22-35c4-42cc-91df-6ce94d667035",
   "metadata": {},
   "outputs": [],
   "source": [
    "total=np.sum(array1)"
   ]
  },
  {
   "cell_type": "code",
   "execution_count": 60,
   "id": "6db16148-dec6-4ed9-8824-af73fc46fe26",
   "metadata": {},
   "outputs": [
    {
     "name": "stdout",
     "output_type": "stream",
     "text": [
      "413\n"
     ]
    }
   ],
   "source": [
    "print(total)"
   ]
  },
  {
   "cell_type": "code",
   "execution_count": 62,
   "id": "b9bf918f-bd5c-4b5c-b4f9-be233935126c",
   "metadata": {},
   "outputs": [
    {
     "name": "stdout",
     "output_type": "stream",
     "text": [
      "Mean: 82.6\n"
     ]
    }
   ],
   "source": [
    "print('Mean:',np.mean(array1))"
   ]
  },
  {
   "cell_type": "code",
   "execution_count": 63,
   "id": "1056a2d3-0a84-445d-904e-6284de4249d5",
   "metadata": {},
   "outputs": [
    {
     "name": "stdout",
     "output_type": "stream",
     "text": [
      "Min:  70\n"
     ]
    }
   ],
   "source": [
    "print('Min: ',np.min(array1))"
   ]
  },
  {
   "cell_type": "code",
   "execution_count": 64,
   "id": "37e496b2-3be9-425a-972e-3d39f7609cc4",
   "metadata": {},
   "outputs": [
    {
     "name": "stdout",
     "output_type": "stream",
     "text": [
      "Max:  99\n"
     ]
    }
   ],
   "source": [
    "print('Max: ',np.max(array1))"
   ]
  },
  {
   "cell_type": "code",
   "execution_count": 65,
   "id": "d465a4ef-b134-4607-bd87-15e01aec280a",
   "metadata": {},
   "outputs": [
    {
     "name": "stdout",
     "output_type": "stream",
     "text": [
      "Index of min:  1\n"
     ]
    }
   ],
   "source": [
    "print('Index of min: ',np.argmin(array1))"
   ]
  },
  {
   "cell_type": "code",
   "execution_count": 66,
   "id": "6848da3d-5e5a-4c0f-902c-119f9e409f19",
   "metadata": {},
   "outputs": [
    {
     "name": "stdout",
     "output_type": "stream",
     "text": [
      "Index of Max:  3\n"
     ]
    }
   ],
   "source": [
    "print('Index of Max: ',np.argmax(array1))"
   ]
  },
  {
   "cell_type": "code",
   "execution_count": 67,
   "id": "acbf6c08-0a48-449b-b0f8-bc9cee9ee875",
   "metadata": {},
   "outputs": [],
   "source": [
    "our_array=np.array([100,200,300,400,500,600,7000])"
   ]
  },
  {
   "cell_type": "code",
   "execution_count": 68,
   "id": "fd66a1f6-29e0-4b6f-85c7-e0700bb90114",
   "metadata": {},
   "outputs": [
    {
     "name": "stdout",
     "output_type": "stream",
     "text": [
      "[ 100  200  300  400  500  600 7000]\n"
     ]
    }
   ],
   "source": [
    "print(our_array)"
   ]
  },
  {
   "cell_type": "markdown",
   "id": "a5756bee-fc22-4270-8907-508d704f21a5",
   "metadata": {},
   "source": [
    "# Searching and sorting example in 1D Array"
   ]
  },
  {
   "cell_type": "code",
   "execution_count": 70,
   "id": "0c90e592-5805-441e-9813-b136f85a2534",
   "metadata": {},
   "outputs": [
    {
     "name": "stdout",
     "output_type": "stream",
     "text": [
      "*** Sorted Array ***\n",
      "[ 100  200  300  400  500  600 7000]\n"
     ]
    }
   ],
   "source": [
    "sorted_arr=np.sort(our_array)\n",
    "print('*** Sorted Array ***')\n",
    "print(sorted_arr)"
   ]
  },
  {
   "cell_type": "code",
   "execution_count": 71,
   "id": "3648e45a-09b0-49c5-aa10-8ccee5a5b401",
   "metadata": {},
   "outputs": [
    {
     "name": "stdout",
     "output_type": "stream",
     "text": [
      "Is there any item greater than 500?:  True\n"
     ]
    }
   ],
   "source": [
    "print('Is there any item greater than 500?: ',np.any(sorted_arr>500))"
   ]
  },
  {
   "cell_type": "code",
   "execution_count": 72,
   "id": "75f2f561-1ad9-40ad-a126-be8bf973cc00",
   "metadata": {},
   "outputs": [
    {
     "name": "stdout",
     "output_type": "stream",
     "text": [
      "All greater than 500?:  False\n"
     ]
    }
   ],
   "source": [
    "print('All greater than 500?: ',np.all(sorted_arr>500))"
   ]
  },
  {
   "cell_type": "code",
   "execution_count": 73,
   "id": "2b892932-1be9-4883-b2a7-d7ac0eea3724",
   "metadata": {},
   "outputs": [
    {
     "name": "stdout",
     "output_type": "stream",
     "text": [
      "Where values >500 (array([5, 6]),)\n"
     ]
    }
   ],
   "source": [
    "print('Where values >500',np.where(sorted_arr>500))"
   ]
  },
  {
   "cell_type": "code",
   "execution_count": 75,
   "id": "6159b397-b075-4c5e-b6eb-c235310d424d",
   "metadata": {},
   "outputs": [
    {
     "name": "stdout",
     "output_type": "stream",
     "text": [
      "All number greater than 500\n",
      "[5 6]\n"
     ]
    }
   ],
   "source": [
    "print('All number greater than 500')\n",
    "for num in np.where(sorted_arr>500):\n",
    "    print (num)"
   ]
  },
  {
   "cell_type": "code",
   "execution_count": 6,
   "id": "55f872a7-546c-42e5-ab09-082b53d5f0f6",
   "metadata": {},
   "outputs": [
    {
     "name": "stdout",
     "output_type": "stream",
     "text": [
      "[ 100  200  300  400  500  600 7000]\n"
     ]
    }
   ],
   "source": [
    "print(our_array)"
   ]
  },
  {
   "cell_type": "code",
   "execution_count": 9,
   "id": "e9d3a65c-042a-451f-91d5-a55e968ced74",
   "metadata": {},
   "outputs": [
    {
     "name": "stdout",
     "output_type": "stream",
     "text": [
      "All number greater than 500\n",
      "False\n",
      "False\n",
      "False\n",
      "False\n",
      "False\n",
      "True\n",
      "True\n"
     ]
    }
   ],
   "source": [
    "sorted_arr=np.sort(our_array)\n",
    "print('All number greater than 500')\n",
    "for num in sorted_arr>500:\n",
    "    print (num)"
   ]
  },
  {
   "cell_type": "code",
   "execution_count": 10,
   "id": "de0cb526-0d25-4c48-a37b-3d4a1312d975",
   "metadata": {},
   "outputs": [],
   "source": [
    "selected_values=sorted_arr[sorted_arr>500]"
   ]
  },
  {
   "cell_type": "code",
   "execution_count": 11,
   "id": "bd1a79be-5a30-48d7-a45d-a30ec63da13e",
   "metadata": {},
   "outputs": [
    {
     "name": "stdout",
     "output_type": "stream",
     "text": [
      "[ 600 7000]\n"
     ]
    }
   ],
   "source": [
    "print(selected_values)"
   ]
  },
  {
   "cell_type": "code",
   "execution_count": 12,
   "id": "604acc8b-9756-4800-9b5c-f96a216e4af2",
   "metadata": {},
   "outputs": [
    {
     "name": "stdout",
     "output_type": "stream",
     "text": [
      "600\n",
      "7000\n"
     ]
    }
   ],
   "source": [
    "for num in selected_values:\n",
    "    print(num)"
   ]
  },
  {
   "cell_type": "code",
   "execution_count": 13,
   "id": "83f6705b-f0df-42c8-87ea-5bb44d475464",
   "metadata": {},
   "outputs": [
    {
     "name": "stdout",
     "output_type": "stream",
     "text": [
      "600\n",
      "7000\n"
     ]
    }
   ],
   "source": [
    "for num in sorted_arr[sorted_arr>500]:\n",
    "    print(num)"
   ]
  },
  {
   "cell_type": "code",
   "execution_count": 14,
   "id": "4bd108a0-cfe3-4b8e-9713-8f0a02e036da",
   "metadata": {},
   "outputs": [
    {
     "name": "stdout",
     "output_type": "stream",
     "text": [
      "  [ 600 7000]\n"
     ]
    }
   ],
   "source": [
    "print(' ',sorted_arr[sorted_arr>500])"
   ]
  },
  {
   "cell_type": "markdown",
   "id": "10887da5-f513-42b3-996e-6c6c24410c45",
   "metadata": {},
   "source": [
    "# Slicing 1 D Array\n",
    "    1.To take elements from starting index to end index\n",
    "    2.e.g. [start:end]"
   ]
  },
  {
   "cell_type": "code",
   "execution_count": 15,
   "id": "2f776bd6-b17e-4b2a-83ee-04187665c354",
   "metadata": {},
   "outputs": [
    {
     "name": "stdout",
     "output_type": "stream",
     "text": [
      "[ 100  200  300  400  500  600 7000]\n"
     ]
    }
   ],
   "source": [
    "print(our_array)"
   ]
  },
  {
   "cell_type": "code",
   "execution_count": 17,
   "id": "0887d495-84d6-44c6-b79e-5d3261b68976",
   "metadata": {},
   "outputs": [
    {
     "name": "stdout",
     "output_type": "stream",
     "text": [
      "[200 300]\n"
     ]
    }
   ],
   "source": [
    "slice_our_arr=our_array[1:3]\n",
    "print(slice_our_arr)"
   ]
  },
  {
   "cell_type": "markdown",
   "id": "ae880b41-f22f-47fe-99b5-89c5f355d8ac",
   "metadata": {},
   "source": [
    "# starting from an index and going till last"
   ]
  },
  {
   "cell_type": "code",
   "execution_count": 18,
   "id": "e4d0fcb3-4b05-4d27-8f78-7c987fd8c126",
   "metadata": {},
   "outputs": [
    {
     "name": "stdout",
     "output_type": "stream",
     "text": [
      "[ 400  500  600 7000]\n"
     ]
    }
   ],
   "source": [
    "print(our_array[3:])"
   ]
  },
  {
   "cell_type": "code",
   "execution_count": 20,
   "id": "144b22a2-7130-45ea-b90f-1b12ef23b719",
   "metadata": {},
   "outputs": [
    {
     "name": "stdout",
     "output_type": "stream",
     "text": [
      "[ 100  200  300  400  500  600 7000]\n"
     ]
    }
   ],
   "source": [
    "print(sorted_arr)"
   ]
  },
  {
   "cell_type": "code",
   "execution_count": 23,
   "id": "0f12b615-c685-4f17-9ac0-88ac44d040ca",
   "metadata": {},
   "outputs": [
    {
     "name": "stdout",
     "output_type": "stream",
     "text": [
      "[200 300]\n"
     ]
    }
   ],
   "source": [
    "slice_sorted_arr=sorted_arr[1:3]\n",
    "print(slice_sorted_arr)"
   ]
  },
  {
   "cell_type": "code",
   "execution_count": 25,
   "id": "c8c7ff26-6485-4adf-bba5-132ada982785",
   "metadata": {},
   "outputs": [
    {
     "name": "stdout",
     "output_type": "stream",
     "text": [
      "[ 400  500  600 7000]\n"
     ]
    }
   ],
   "source": [
    "print(sorted_arr[3:])"
   ]
  },
  {
   "cell_type": "code",
   "execution_count": 27,
   "id": "46ca211a-79f7-46a8-823b-84ba70b095ba",
   "metadata": {},
   "outputs": [
    {
     "name": "stdout",
     "output_type": "stream",
     "text": [
      "[100 200 300 400]\n"
     ]
    }
   ],
   "source": [
    "print(sorted_arr[:4]) "
   ]
  },
  {
   "cell_type": "code",
   "execution_count": 28,
   "id": "e9d4af6d-8f8b-4f50-9a72-b5368635e9f6",
   "metadata": {},
   "outputs": [
    {
     "name": "stdout",
     "output_type": "stream",
     "text": [
      "[100 200 300 400 500]\n"
     ]
    }
   ],
   "source": [
    "print(sorted_arr[:5])"
   ]
  },
  {
   "cell_type": "markdown",
   "id": "b1757974-58ff-4f36-b633-d2067ae09c75",
   "metadata": {},
   "source": [
    "# Step\n",
    "    # [start:end:step]\n",
    "    #step: every step element"
   ]
  },
  {
   "cell_type": "code",
   "execution_count": 29,
   "id": "63e92383-d390-4638-8371-5beb710dd4a6",
   "metadata": {},
   "outputs": [
    {
     "name": "stdout",
     "output_type": "stream",
     "text": [
      "[200 400 600]\n"
     ]
    }
   ],
   "source": [
    "our_slice=sorted_arr[1:6:2]\n",
    "print(our_slice)"
   ]
  },
  {
   "cell_type": "code",
   "execution_count": 31,
   "id": "eb9f3857-1611-4cc0-905a-e8c808848837",
   "metadata": {},
   "outputs": [
    {
     "name": "stdout",
     "output_type": "stream",
     "text": [
      "Original Array\n",
      "[ 100  200  300  400  500  600 7000]\n",
      "Every third Element\n",
      "[ 100  400 7000]\n"
     ]
    }
   ],
   "source": [
    "print('Original Array')\n",
    "print(sorted_arr)\n",
    "print('Every third Element')\n",
    "every_third_element=sorted_arr[::3]\n",
    "print(every_third_element)"
   ]
  },
  {
   "cell_type": "markdown",
   "id": "65568a84-cb93-42a8-8572-6e5d5b0a9495",
   "metadata": {},
   "source": [
    "# Slice Reverse"
   ]
  },
  {
   "cell_type": "code",
   "execution_count": 34,
   "id": "532b06a9-4dd1-4685-9fb2-6edd8e44775d",
   "metadata": {},
   "outputs": [
    {
     "name": "stdout",
     "output_type": "stream",
     "text": [
      "Original Array\n",
      "[ 100  200  300  400  500  600 7000]\n",
      "Reverse Array: \n",
      "[7000  600  500  400  300  200  100]\n"
     ]
    }
   ],
   "source": [
    "print('Original Array')\n",
    "print(sorted_arr)\n",
    "print('Reverse Array: ')\n",
    "print(sorted_arr[::-1])"
   ]
  },
  {
   "cell_type": "code",
   "execution_count": 35,
   "id": "f955b7cb-8438-4e03-8e4c-71f0dfec8a18",
   "metadata": {},
   "outputs": [
    {
     "name": "stdout",
     "output_type": "stream",
     "text": [
      "Last Five Elements\n",
      "[ 300  400  500  600 7000]\n"
     ]
    }
   ],
   "source": [
    "print('Last Five Elements')\n",
    "print(sorted_arr[-5:])"
   ]
  },
  {
   "cell_type": "code",
   "execution_count": 36,
   "id": "ec002806-cac6-429e-a9e8-02a4880adc92",
   "metadata": {},
   "outputs": [
    {
     "name": "stdout",
     "output_type": "stream",
     "text": [
      "Slicing Done\n"
     ]
    }
   ],
   "source": [
    "print('Slicing Done')"
   ]
  },
  {
   "cell_type": "code",
   "execution_count": null,
   "id": "a4b49c10-ad86-4a48-90f6-9cc9f5ddc6b8",
   "metadata": {},
   "outputs": [],
   "source": []
  }
 ],
 "metadata": {
  "kernelspec": {
   "display_name": "Python 3 (ipykernel)",
   "language": "python",
   "name": "python3"
  },
  "language_info": {
   "codemirror_mode": {
    "name": "ipython",
    "version": 3
   },
   "file_extension": ".py",
   "mimetype": "text/x-python",
   "name": "python",
   "nbconvert_exporter": "python",
   "pygments_lexer": "ipython3",
   "version": "3.13.5"
  }
 },
 "nbformat": 4,
 "nbformat_minor": 5
}
