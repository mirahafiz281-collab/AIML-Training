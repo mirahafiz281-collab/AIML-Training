{
 "cells": [
  {
   "cell_type": "markdown",
   "id": "5443a1ea-20f7-4bd2-86eb-a3bd3f045316",
   "metadata": {},
   "source": [
    "# Data Handling Using Pandas"
   ]
  },
  {
   "cell_type": "code",
   "execution_count": 4,
   "id": "ef1b9525-5394-44d3-8f96-465e7a6fa0fc",
   "metadata": {},
   "outputs": [],
   "source": [
    "import pandas as pd"
   ]
  },
  {
   "cell_type": "code",
   "execution_count": 5,
   "id": "dfdca3de-348c-4484-860d-97edb0535b2e",
   "metadata": {},
   "outputs": [
    {
     "ename": "NameError",
     "evalue": "name 'students' is not defined",
     "output_type": "error",
     "traceback": [
      "\u001b[1;31m---------------------------------------------------------------------------\u001b[0m",
      "\u001b[1;31mNameError\u001b[0m                                 Traceback (most recent call last)",
      "Cell \u001b[1;32mIn[5], line 1\u001b[0m\n\u001b[1;32m----> 1\u001b[0m df\u001b[38;5;241m=\u001b[39mpd\u001b[38;5;241m.\u001b[39mread_excel(students\u001b[38;5;241m.\u001b[39mxlsl)\n",
      "\u001b[1;31mNameError\u001b[0m: name 'students' is not defined"
     ]
    }
   ],
   "source": [
    "df=pd.read_excel(students.xlsl)"
   ]
  },
  {
   "cell_type": "code",
   "execution_count": null,
   "id": "cc2d3aec-db5c-4d79-81eb-46492a018c20",
   "metadata": {},
   "outputs": [],
   "source": [
    "print('Students Record as follows')"
   ]
  },
  {
   "cell_type": "code",
   "execution_count": null,
   "id": "08c43d2e-5890-4859-a5ca-339c57504dff",
   "metadata": {},
   "outputs": [],
   "source": [
    "df"
   ]
  },
  {
   "cell_type": "code",
   "execution_count": null,
   "id": "7cf5c156-0ed4-4b4b-8928-08403ba35c8a",
   "metadata": {},
   "outputs": [],
   "source": []
  }
 ],
 "metadata": {
  "kernelspec": {
   "display_name": "Python 3 (ipykernel)",
   "language": "python",
   "name": "python3"
  },
  "language_info": {
   "codemirror_mode": {
    "name": "ipython",
    "version": 3
   },
   "file_extension": ".py",
   "mimetype": "text/x-python",
   "name": "python",
   "nbconvert_exporter": "python",
   "pygments_lexer": "ipython3",
   "version": "3.13.5"
  }
 },
 "nbformat": 4,
 "nbformat_minor": 5
}
