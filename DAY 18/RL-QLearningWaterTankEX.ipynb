{
 "cells": [
  {
   "cell_type": "code",
   "execution_count": 33,
   "id": "538b1645-197e-4a10-a932-2160e9ceff25",
   "metadata": {},
   "outputs": [],
   "source": [
    "# Step 1:\n",
    "import numpy as np\n",
    "import random"
   ]
  },
  {
   "cell_type": "code",
   "execution_count": 34,
   "id": "82c3cd68-651d-49f2-bf04-690399c1f9a3",
   "metadata": {},
   "outputs": [
    {
     "name": "stdout",
     "output_type": "stream",
     "text": [
      "States: [  0  10  20  30  40  50  60  70  80  90 100]\n",
      "Actions: ['FILL', 'STOP']\n"
     ]
    }
   ],
   "source": [
    "# 2: DEfine State and Actions\n",
    "states = np.arange(0,101,10)\n",
    "actions = ['FILL','STOP']\n",
    "print('States:', states)\n",
    "print('Actions:', actions)"
   ]
  },
  {
   "cell_type": "code",
   "execution_count": 35,
   "id": "d3378000-2999-426b-a93f-d67d7c620f98",
   "metadata": {},
   "outputs": [
    {
     "name": "stdout",
     "output_type": "stream",
     "text": [
      "Q-table Shape: (11, 2)\n"
     ]
    }
   ],
   "source": [
    "# create Q table and set alpha, gamma, epsilon, episodes\n",
    "#Q Table: [s,a]\n",
    "Q = np.zeros((len(states), len(actions)))\n",
    "\n",
    "alpha= 0.1\n",
    "gamma= 0.9\n",
    "epsilon= 0.2\n",
    "episodes= 300\n",
    "\n",
    "print('Q-table Shape:', Q.shape)"
   ]
  },
  {
   "cell_type": "code",
   "execution_count": 36,
   "id": "e4e8a748-4f00-4b4c-87cd-66b3d70771fe",
   "metadata": {},
   "outputs": [
    {
     "name": "stdout",
     "output_type": "stream",
     "text": [
      "Reward Example (level=60, FILL): 10\n"
     ]
    }
   ],
   "source": [
    "#Write Reward , Penality function\n",
    "def get_reward(level, action):\n",
    "    if 40 <= level <= 70:\n",
    "        reward = 10  # ideal range\n",
    "    else:\n",
    "        reward = -10  # too low/high\n",
    "    if action == 'FILL' and level >= 90:\n",
    "        reward -= 10  # overflow risk\n",
    "    if action == 'STOP' and level <= 10:\n",
    "        reward -= 10  # empty risk\n",
    "    return reward\n",
    "\n",
    "print('Reward Example (level=60, FILL):', get_reward(60, 'FILL'))"
   ]
  },
  {
   "cell_type": "code",
   "execution_count": 37,
   "id": "35fb5476-70e5-4755-a928-384ef6d413c3",
   "metadata": {},
   "outputs": [
    {
     "name": "stdout",
     "output_type": "stream",
     "text": [
      "Next Level Example: 60\n"
     ]
    }
   ],
   "source": [
    "def next_level(level, action):\n",
    "    if action == 'FILL':\n",
    "        level += random.choice([5, 10, 15])\n",
    "    else:\n",
    "        level -= random.choice([5, 10, 15])\n",
    "    return int(np.clip(level, 0, 100))\n",
    "\n",
    "print('Next Level Example:', next_level(50, 'FILL'))"
   ]
  },
  {
   "cell_type": "code",
   "execution_count": 38,
   "id": "d05a4899-ca89-47e5-b230-8109a55fc498",
   "metadata": {},
   "outputs": [
    {
     "name": "stdout",
     "output_type": "stream",
     "text": [
      "Training Completed\n"
     ]
    }
   ],
   "source": [
    "for ep in range(episodes):\n",
    "    level = random.choice(states)\n",
    "    for _ in range(15):  # steps per episode\n",
    "        if random.uniform(0, 1) < epsilon:\n",
    "            action = random.choice(actions)\n",
    "        else:\n",
    "            action = actions[np.argmax(Q[level // 10])]\n",
    "\n",
    "        next_state = next_level(level, action)\n",
    "        reward = get_reward(next_state, action)\n",
    "\n",
    "        a = actions.index(action)\n",
    "        best_next = np.max(Q[next_state // 10])\n",
    "        Q[level // 10, a] += alpha * (reward + gamma * best_next - Q[level // 10, a])\n",
    "print('Training Completed')"
   ]
  },
  {
   "cell_type": "code",
   "execution_count": 39,
   "id": "9e411ded-206b-4874-a30d-c9cb7cf7f51b",
   "metadata": {},
   "outputs": [
    {
     "name": "stdin",
     "output_type": "stream",
     "text": [
      "Enter starting water level (0–100):  80\n"
     ]
    },
    {
     "name": "stdout",
     "output_type": "stream",
     "text": [
      "\n",
      "Starting with level: 80%\n",
      "Simulating for 10 steps:\n",
      "\n",
      "Step 1: Level=80% → Action=STOP\n",
      "Step 2: Level=75% → Action=STOP\n",
      "Step 3: Level=65% → Action=STOP\n",
      "Step 4: Level=55% → Action=FILL\n",
      "Step 5: Level=70% → Action=STOP\n",
      "Step 6: Level=65% → Action=STOP\n",
      "Step 7: Level=60% → Action=STOP\n",
      "Step 8: Level=50% → Action=FILL\n",
      "Step 9: Level=55% → Action=FILL\n",
      "Step 10: Level=65% → Action=STOP\n",
      "\\Simulation complete. Water tank control finished.\n"
     ]
    }
   ],
   "source": [
    "try:\n",
    "    level = int(input('Enter starting water level (0–100): '))\n",
    "    if level < 0 or level > 100:\n",
    "        raise ValueError('Water level out of range!')\n",
    "except ValueError as e:\n",
    "    print(e)\n",
    "    level = 50\n",
    "    print('Defaut level set to 50%.')\n",
    "\n",
    "print(f'\\nStarting with level: {level}%')\n",
    "print('Simulating for 10 steps:\\n')\n",
    "\n",
    "for step in range(10):\n",
    "    action = actions[np.argmax(Q[level // 10])]\n",
    "    print(f'Step {step+1}: Level={level}% → Action={action}')\n",
    "    level = next_level(level, action)\n",
    "\n",
    "print('\\Simulation complete. Water tank control finished.')"
   ]
  },
  {
   "cell_type": "code",
   "execution_count": null,
   "id": "2291fbf3-7e39-4101-9843-6298a7f87ccf",
   "metadata": {},
   "outputs": [],
   "source": []
  }
 ],
 "metadata": {
  "kernelspec": {
   "display_name": "Python 3 (ipykernel)",
   "language": "python",
   "name": "python3"
  },
  "language_info": {
   "codemirror_mode": {
    "name": "ipython",
    "version": 3
   },
   "file_extension": ".py",
   "mimetype": "text/x-python",
   "name": "python",
   "nbconvert_exporter": "python",
   "pygments_lexer": "ipython3",
   "version": "3.13.5"
  }
 },
 "nbformat": 4,
 "nbformat_minor": 5
}
