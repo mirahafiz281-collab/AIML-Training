{
 "cells": [
  {
   "cell_type": "code",
   "execution_count": 2,
   "id": "a88d1560-8d15-4e57-9d16-421e595159b8",
   "metadata": {},
   "outputs": [],
   "source": [
    "import numpy as np\n",
    "import random"
   ]
  },
  {
   "cell_type": "code",
   "execution_count": 3,
   "id": "28b32384-18ce-4938-9aa6-23c2019e094c",
   "metadata": {},
   "outputs": [],
   "source": [
    "states= np.arange(16,31)\n",
    "actions=['ON','OFF']"
   ]
  },
  {
   "cell_type": "code",
   "execution_count": 4,
   "id": "a0df2cbf-dab2-4708-b7cb-5ce5149f7476",
   "metadata": {},
   "outputs": [
    {
     "name": "stdout",
     "output_type": "stream",
     "text": [
      "[16 17 18 19 20 21 22 23 24 25 26 27 28 29 30]\n",
      "['ON', 'OFF']\n"
     ]
    }
   ],
   "source": [
    "print(states)\n",
    "print(actions)"
   ]
  },
  {
   "cell_type": "code",
   "execution_count": 5,
   "id": "cb5051fc-4e24-4f8b-81fa-6e8a41fea14e",
   "metadata": {},
   "outputs": [],
   "source": [
    "# Q Tables is [s,a] state, action\n",
    "Q = np.zeros((len(states), len(actions)))"
   ]
  },
  {
   "cell_type": "code",
   "execution_count": 17,
   "id": "a6103aec-fb8a-4e10-8a1c-7e09c300ed82",
   "metadata": {},
   "outputs": [],
   "source": [
    "# alpha: (0-1)\n",
    "# gama= 1\n",
    "# epsilon:probability\n",
    "# episodes: independent training runs ()\n",
    "alpha=0.1\n",
    "gamma=0.9\n",
    "epsilon=0.2\n",
    "episodes=300"
   ]
  },
  {
   "cell_type": "code",
   "execution_count": 18,
   "id": "34cc6203-8e4c-4c57-aef5-4e2139145b7a",
   "metadata": {},
   "outputs": [],
   "source": [
    "#Step 3: Reward Write Reward Function\n",
    "def get_reward(temp, action):\n",
    "    if 20 <= temp <= 24:\n",
    "        reward = 10 # confortable\n",
    "    else:\n",
    "        reward = -5 # unconfortable\n",
    "    if action == 'ON':\n",
    "        reward -= 2 # cost of energy\n",
    "    return reward"
   ]
  },
  {
   "cell_type": "code",
   "execution_count": 19,
   "id": "08e18c31-0208-4937-9a39-4c34f74bb0f2",
   "metadata": {},
   "outputs": [],
   "source": [
    "#Step 4: Environment Dynamic Change(e.g. Temperature Changes)\n",
    "def next_temp(temp, action):\n",
    "    if action == 'ON':\n",
    "        temp = random.choice([1,2])\n",
    "    else:\n",
    "        temp += random.choice([0,1,2])\n",
    "    return int(np.clip(temp,16,30))\n"
   ]
  },
  {
   "cell_type": "code",
   "execution_count": 20,
   "id": "25111d65-2992-492e-9911-ab325a371bc3",
   "metadata": {},
   "outputs": [
    {
     "name": "stdout",
     "output_type": "stream",
     "text": [
      "Training complete\n"
     ]
    }
   ],
   "source": [
    "# Step 5\n",
    "for ep in range (episodes):\n",
    "    temp = random.choice(states)\n",
    "    done = False\n",
    "    for _ in range(20):    #limit steps per episode\n",
    "        # choosen action (epsilon-greedy)\n",
    "        if random.uniform(0,1) < epsilon:\n",
    "            action = random.choice(actions)\n",
    "        else:\n",
    "            action = actions[np.argmax(Q[temp - 16])]\n",
    "\n",
    "        next_state = next_temp(temp,action)\n",
    "        reward = get_reward(next_state,action)\n",
    "        a = actions.index(action)\n",
    "        best_next = np.max(Q[next_state - 16])\n",
    "        Q[temp -16,a] += alpha * (reward + gamma + best_next - Q[temp - 16, a])\n",
    "\n",
    "        temp = next_state\n",
    "\n",
    "print(\"Training complete\")"
   ]
  },
  {
   "cell_type": "code",
   "execution_count": 23,
   "id": "e4933764-f0b7-4993-be39-2ef096de6ce6",
   "metadata": {},
   "outputs": [
    {
     "name": "stdout",
     "output_type": "stream",
     "text": [
      "Step 1: Temp = 28 Cel -> Action ON\n",
      "Step 2: Temp = 16 Cel -> Action OFF\n",
      "Step 3: Temp = 16 Cel -> Action OFF\n",
      "Step 4: Temp = 17 Cel -> Action OFF\n",
      "Step 5: Temp = 18 Cel -> Action OFF\n",
      "Step 6: Temp = 20 Cel -> Action OFF\n",
      "Step 7: Temp = 22 Cel -> Action OFF\n",
      "Step 8: Temp = 22 Cel -> Action OFF\n",
      "Step 9: Temp = 24 Cel -> Action ON\n",
      "Step 10: Temp = 16 Cel -> Action OFF\n"
     ]
    }
   ],
   "source": [
    "# Test learned policy\n",
    "temp= 28\n",
    "for step in range (10):\n",
    "    action = actions[np.argmax(Q[temp - 16])]\n",
    "    print(f\"Step {step + 1}: Temp = {temp} Cel -> Action {action}\")\n",
    "    temp = next_temp(temp,action)"
   ]
  },
  {
   "cell_type": "code",
   "execution_count": 25,
   "id": "0962e3a2-8119-4f37-b67c-959c57aab3de",
   "metadata": {},
   "outputs": [
    {
     "name": "stdin",
     "output_type": "stream",
     "text": [
      "Enter Starting Room Temp(16-30) 34\n"
     ]
    },
    {
     "name": "stdout",
     "output_type": "stream",
     "text": [
      "Temp out of range\n",
      "Set to default 25°C\n",
      "Starting temp: {temp} C\n",
      "Step 1: Temp=25°C -> Action=ON\n",
      "Step 2: Temp=16°C -> Action=OFF\n",
      "Step 3: Temp=18°C -> Action=OFF\n",
      "Step 4: Temp=18°C -> Action=OFF\n",
      "Step 5: Temp=20°C -> Action=OFF\n",
      "Step 6: Temp=20°C -> Action=OFF\n",
      "Step 7: Temp=22°C -> Action=OFF\n",
      "Step 8: Temp=22°C -> Action=OFF\n",
      "Step 9: Temp=23°C -> Action=OFF\n",
      "Step 10: Temp=23°C -> Action=OFF\n",
      "\n",
      " Done \n"
     ]
    }
   ],
   "source": [
    "try:\n",
    "    temp =int(input('Enter Starting Room Temp(16-30)'))\n",
    "    if temp<16 or temp>30:\n",
    "              raise ValueError('Temp out of range')\n",
    "except ValueError as ve:\n",
    "    print(ve)\n",
    "    temp=25\n",
    "    print('Set to default 25°C')\n",
    "print('Starting temp: {temp} C')\n",
    "for step in range (10):\n",
    "    action = actions[np.argmax(Q[temp - 16])]\n",
    "    print(f\"Step {step+1}: Temp={temp}°C -> Action={action}\")\n",
    "    temp = next_temp(temp, action)\n",
    "print('\\n Done ')"
   ]
  },
  {
   "cell_type": "code",
   "execution_count": null,
   "id": "2f8f89c0-95f3-467c-893d-c7f149a8ce6c",
   "metadata": {},
   "outputs": [],
   "source": []
  }
 ],
 "metadata": {
  "kernelspec": {
   "display_name": "Python 3 (ipykernel)",
   "language": "python",
   "name": "python3"
  },
  "language_info": {
   "codemirror_mode": {
    "name": "ipython",
    "version": 3
   },
   "file_extension": ".py",
   "mimetype": "text/x-python",
   "name": "python",
   "nbconvert_exporter": "python",
   "pygments_lexer": "ipython3",
   "version": "3.13.5"
  }
 },
 "nbformat": 4,
 "nbformat_minor": 5
}
