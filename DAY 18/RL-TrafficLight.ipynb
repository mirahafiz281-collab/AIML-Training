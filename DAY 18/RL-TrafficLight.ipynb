{
 "cells": [
  {
   "cell_type": "markdown",
   "id": "27737232-a6f7-4f80-91c0-1e26cbcaa37f",
   "metadata": {},
   "source": [
    "# Exercise: Smart Traffic Light Controller using Q-Learning"
   ]
  },
  {
   "cell_type": "markdown",
   "id": "0a15c35f-5e7e-48b9-a06e-de7977b1ee7f",
   "metadata": {},
   "source": [
    "    # Objective: In this exercise, you’ll design a Smart Traffic Light System that learns when to switch lights (Green/Red) based on \n",
    "    # real-time traffic conditions using Q-Learning. Your AI agent will balance reducing waiting time for vehicles, saving energy, and maintaining safety"
   ]
  },
  {
   "cell_type": "code",
   "execution_count": 39,
   "id": "7a48d6c4-a1c8-492d-a3e5-b058aa7a7737",
   "metadata": {},
   "outputs": [
    {
     "name": "stdout",
     "output_type": "stream",
     "text": [
      "Import successful\n"
     ]
    }
   ],
   "source": [
    "# Step 1:\n",
    "import numpy as np\n",
    "import random\n",
    "\n",
    "print('Import successful')"
   ]
  },
  {
   "cell_type": "code",
   "execution_count": 40,
   "id": "58bf4523-f978-4601-bcb0-cbf2ad093287",
   "metadata": {},
   "outputs": [
    {
     "name": "stdout",
     "output_type": "stream",
     "text": [
      "States: [0 1 2 3 4]\n",
      "Action: ['GREEN', 'RED']\n"
     ]
    }
   ],
   "source": [
    "#Step 2:\n",
    "states = np.arange(0,5,1)\n",
    "actions = ['GREEN','RED']\n",
    "print('States:', states)\n",
    "print('Action:', actions)"
   ]
  },
  {
   "cell_type": "code",
   "execution_count": 41,
   "id": "0c4c550d-c3e8-455e-b1b9-e3d34e02c422",
   "metadata": {},
   "outputs": [
    {
     "name": "stdout",
     "output_type": "stream",
     "text": [
      "Q-table Shape: (5, 2)\n"
     ]
    }
   ],
   "source": [
    "# create Q table and set alpha, gamma, epsilon, episodes\n",
    "#Q Table: [s,a]\n",
    "Q = np.zeros((len(states), len(actions)))\n",
    "\n",
    "alpha= 0.1\n",
    "gamma= 0.9\n",
    "epsilon= 0.2\n",
    "episodes= 300\n",
    "\n",
    "print('Q-table Shape:', Q.shape)"
   ]
  },
  {
   "cell_type": "code",
   "execution_count": 43,
   "id": "dc352755-86c0-45da-be32-e075c871a662",
   "metadata": {},
   "outputs": [
    {
     "name": "stdout",
     "output_type": "stream",
     "text": [
      "Reward Example (Traffic= 3, red): -10\n"
     ]
    }
   ],
   "source": [
    "def get_reward(states,action):\n",
    "    if 3 <= states < 5:  \n",
    "        if action == 'GREEN':\n",
    "            reward = 10 \n",
    "        else:\n",
    "            reward = -10 \n",
    "    elif states == 0:  \n",
    "        if action == 'RED':\n",
    "            reward =  5 \n",
    "        else:\n",
    "            reward = -5 \n",
    "    else:\n",
    "        reward = 1 \n",
    "    return reward\n",
    "\n",
    "print('Reward Example (Traffic= 3, red):', get_reward(3, 'RED'))"
   ]
  },
  {
   "cell_type": "code",
   "execution_count": 44,
   "id": "b8fba16e-e939-4f8b-8227-846578493622",
   "metadata": {},
   "outputs": [
    {
     "name": "stdout",
     "output_type": "stream",
     "text": [
      "Next Traffic Example: 1\n"
     ]
    }
   ],
   "source": [
    "def next_traffic(traffic,action):\n",
    "    if action == 'GREEN':\n",
    "        traffic += np.random.choice([-1, 0, 1])\n",
    "    else:\n",
    "        traffic -= np.random.choice([-1, 0, 1])\n",
    "    return int(np.clip(traffic, 0, 4) )\n",
    "\n",
    "print(\"Next Traffic Example:\", next_traffic(1,'GREEN'))"
   ]
  },
  {
   "cell_type": "code",
   "execution_count": 47,
   "id": "0d552426-ced9-4361-8419-8604b4da020c",
   "metadata": {},
   "outputs": [
    {
     "name": "stdout",
     "output_type": "stream",
     "text": [
      "Training Completed\n"
     ]
    }
   ],
   "source": [
    "for ep in range(episodes):\n",
    "    traffic = random.choice(states)\n",
    "    for _ in range(15): # steps per episode\n",
    "        if random.uniform(0, 1) < epsilon:\n",
    "            action = random.choice(actions)\n",
    "        else:\n",
    "            action = actions[np.argmax(Q[traffic])]\n",
    " \n",
    "        next_state = next_traffic(traffic, action)\n",
    "        reward = get_reward(next_state, action)\n",
    " \n",
    "        a = actions.index(action)\n",
    "        best_next = np.max(Q[next_state])\n",
    "        Q[traffic, a] += alpha * (reward + gamma * best_next - Q[traffic, a])\n",
    "print(\"Training Completed\")"
   ]
  },
  {
   "cell_type": "code",
   "execution_count": 50,
   "id": "14448d70-473b-4012-b6f4-444f9701fe31",
   "metadata": {},
   "outputs": [
    {
     "name": "stdin",
     "output_type": "stream",
     "text": [
      "Enter starting traffic state (0–4):  1\n"
     ]
    },
    {
     "name": "stdout",
     "output_type": "stream",
     "text": [
      "\n",
      "Starting with state: 1\n",
      "Simulating for 10 steps:\n",
      "\n",
      "Step 1: State=1 -> Action=RED\n",
      "Step 2: State=0 -> Action=RED\n",
      "Step 3: State=1 -> Action=RED\n",
      "Step 4: State=2 -> Action=GREEN\n",
      "Step 5: State=2 -> Action=GREEN\n",
      "Step 6: State=2 -> Action=GREEN\n",
      "Step 7: State=3 -> Action=GREEN\n",
      "Step 8: State=3 -> Action=GREEN\n",
      "Step 9: State=4 -> Action=GREEN\n",
      "Step 10: State=4 -> Action=GREEN\n",
      "\n",
      "Simulation complete. Traffic Control finished.\n"
     ]
    }
   ],
   "source": [
    "try:\n",
    "    state = int(input('Enter starting traffic state (0–4): '))\n",
    "    if state < 0 or state > 4:\n",
    "        raise ValueError('Traffic level out of range!')\n",
    "except ValueError as e:\n",
    "    print(e)\n",
    "    state = 2\n",
    "    print('Defaut level set to 2')\n",
    "\n",
    "print(f'\\nStarting with state: {state}')\n",
    "print('Simulating for 10 steps:\\n')\n",
    "\n",
    "for step in range(10):\n",
    "    action = actions[np.argmax(Q[state])]\n",
    "    print(f'Step {step+1}: State={state} -> Action={action}')\n",
    "    state= next_traffic(state, action)\n",
    "\n",
    "print('\\nSimulation complete. Traffic Control finished.')"
   ]
  },
  {
   "cell_type": "code",
   "execution_count": null,
   "id": "93b3721d-3715-4eea-b2eb-1275be094298",
   "metadata": {},
   "outputs": [],
   "source": []
  }
 ],
 "metadata": {
  "kernelspec": {
   "display_name": "Python 3 (ipykernel)",
   "language": "python",
   "name": "python3"
  },
  "language_info": {
   "codemirror_mode": {
    "name": "ipython",
    "version": 3
   },
   "file_extension": ".py",
   "mimetype": "text/x-python",
   "name": "python",
   "nbconvert_exporter": "python",
   "pygments_lexer": "ipython3",
   "version": "3.13.5"
  }
 },
 "nbformat": 4,
 "nbformat_minor": 5
}
