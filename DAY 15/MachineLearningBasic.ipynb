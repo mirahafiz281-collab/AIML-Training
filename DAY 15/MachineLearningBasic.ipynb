{
 "cells": [
  {
   "cell_type": "code",
   "execution_count": 13,
   "id": "b3fcb1cb-6a32-495c-9ead-f9398e2a2e17",
   "metadata": {},
   "outputs": [],
   "source": [
    "import pandas as pd\n",
    "from sklearn.model_selection import train_test_split\n",
    "from sklearn.linear_model import LinearRegression"
   ]
  },
  {
   "cell_type": "code",
   "execution_count": 33,
   "id": "223f1138-f6ec-4502-b58a-8f1257a79c5a",
   "metadata": {},
   "outputs": [],
   "source": [
    "#collect the data\n",
    "data= {\n",
    "    'Hours': [1,2,3,4,5,6,7,8],\n",
    "    'Marks': [25,35,45,50,55,65,70,80]\n",
    "}\n",
    "df=pd.DataFrame(data)"
   ]
  },
  {
   "cell_type": "code",
   "execution_count": 34,
   "id": "59a9a248-c088-4e3e-9f7a-5a19ad9cea02",
   "metadata": {},
   "outputs": [],
   "source": [
    "# Step 3: Define Features and Target\n",
    "X = df[['Hours']]\n",
    "y = df['Marks']"
   ]
  },
  {
   "cell_type": "code",
   "execution_count": 39,
   "id": "7300a97a-bac5-48de-86b8-3327460ca108",
   "metadata": {},
   "outputs": [
    {
     "name": "stdout",
     "output_type": "stream",
     "text": [
      "Training samples: 6\n",
      "Testing samples: 2\n"
     ]
    }
   ],
   "source": [
    "# Step 4: Split Data into Train & Test Sets\n",
    "X_train, X_test, y_train, y_test = train_test_split(X,y, test_size=0.2, random_state=0)\n",
    "print(\"Training samples:\", len(X_train))\n",
    "print(\"Testing samples:\",len(X_test))"
   ]
  },
  {
   "cell_type": "code",
   "execution_count": 36,
   "id": "9c97d7bf-bc8e-4de5-9dea-64acfdf5abed",
   "metadata": {},
   "outputs": [
    {
     "name": "stdout",
     "output_type": "stream",
     "text": [
      "Model trained successfully!\n"
     ]
    }
   ],
   "source": [
    "# Step 5:create the model and # Step 6: Train the model\n",
    "model = LinearRegression()\n",
    "model.fit(X_train, y_train)\n",
    "print(\"Model trained successfully!\")"
   ]
  },
  {
   "cell_type": "code",
   "execution_count": 38,
   "id": "6d8d8a02-51f4-4043-aaef-f7748700dc5a",
   "metadata": {},
   "outputs": [
    {
     "name": "stdout",
     "output_type": "stream",
     "text": [
      "Actual: [np.int64(70), np.int64(45)]\n",
      "Predicted: [np.float64(72.2), np.float64(41.4)]\n"
     ]
    }
   ],
   "source": [
    "y_pred = model.predict(X_test)\n",
    "print(\"Actual:\",list(y_test.values))\n",
    "print(\"Predicted:\",list(y_pred))"
   ]
  },
  {
   "cell_type": "code",
   "execution_count": null,
   "id": "9beecfca-1fee-4fdd-bb81-9f2bee117fdc",
   "metadata": {},
   "outputs": [],
   "source": []
  },
  {
   "cell_type": "code",
   "execution_count": null,
   "id": "6f3c5594-1bda-4d11-8e4c-56ce0994a548",
   "metadata": {},
   "outputs": [],
   "source": []
  }
 ],
 "metadata": {
  "kernelspec": {
   "display_name": "Python 3 (ipykernel)",
   "language": "python",
   "name": "python3"
  },
  "language_info": {
   "codemirror_mode": {
    "name": "ipython",
    "version": 3
   },
   "file_extension": ".py",
   "mimetype": "text/x-python",
   "name": "python",
   "nbconvert_exporter": "python",
   "pygments_lexer": "ipython3",
   "version": "3.13.5"
  }
 },
 "nbformat": 4,
 "nbformat_minor": 5
}
